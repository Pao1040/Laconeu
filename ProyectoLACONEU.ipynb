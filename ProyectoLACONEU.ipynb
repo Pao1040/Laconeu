{
 "cells": [
  {
   "cell_type": "code",
   "execution_count": 1,
   "id": "a9066fc9",
   "metadata": {},
   "outputs": [],
   "source": [
    "import pandas as pd\n",
    "import numpy as np\n",
    "import sklearn \n",
    "from sklearn.metrics import auc\n",
    "from sklearn.metrics import plot_roc_curve\n",
    "from sklearn.model_selection import StratifiedKFold\n",
    "from sklearn import svm\n",
    "import matplotlib.pyplot as plt\n",
    "from sklearn.ensemble import RandomForestClassifier\n",
    "from sklearn.ensemble import GradientBoostingClassifier\n",
    "from sklearn.metrics import roc_curve\n",
    "from sklearn.metrics import roc_auc_score\n",
    "from random import shuffle\n",
    "from scipy.stats import ranksums\n",
    "from sklearn.feature_selection import SelectKBest, chi2\n",
    "from sklearn.metrics import confusion_matrix\n",
    "from sklearn.metrics import precision_score\n",
    "from sklearn.metrics import recall_score\n",
    "from sklearn.metrics import accuracy_score"
   ]
  },
  {
   "cell_type": "code",
   "execution_count": 2,
   "id": "0b6a6f1f",
   "metadata": {},
   "outputs": [],
   "source": [
    "# Defino variables donde voy a ir a poner cosas \n",
    "acc = []\n",
    "acc_sh = []\n",
    "cm = np.zeros((2,2))\n",
    "cm_sh = np.zeros((2,2))\n",
    "features_selected = np.zeros(100)\n",
    "features_selected_sh = np.zeros(100)\n",
    "\n",
    "numfeat = 50 # numero de features para usar con feature selection univariado \n"
   ]
  },
  {
   "cell_type": "code",
   "execution_count": 3,
   "id": "ae03299c",
   "metadata": {},
   "outputs": [],
   "source": [
    "\n",
    "# Este codigo existe para seleccionar un threshold que haga a las matrices de confusion lo mas diagonales posibles\n",
    "def diag_cm(classifier, X_test_new): \n",
    "    thr = np.arange(0,1,0.1)\n",
    "    opt = 10*len(X_test_new)\n",
    "    for t in thr:\n",
    "        pred = classifier.predict_proba(X_test_new)[:,1]>t\n",
    "        cm_temp = np.double(np.array(confusion_matrix(y[test],pred)))\n",
    "        opt_temp = np.abs(cm_temp[0,0] - cm_temp[1,1])+cm_temp[0,1]+cm_temp[1,0]\n",
    "        if opt_temp<opt:\n",
    "            cm_out = cm_temp\n",
    "            opt=opt_temp\n",
    "           # print(opt)\n",
    "           # print(cm_out)\n",
    "    return cm_out\n",
    "\n",
    "\n"
   ]
  },
  {
   "cell_type": "code",
   "execution_count": 38,
   "id": "c70f3933",
   "metadata": {},
   "outputs": [],
   "source": [
    "# 1. cargo la matriz con features\n",
    "\n",
    "#DATA CN DEBERIA SER DATOS DE PERSONAS SANAS Y CON LOS MISMOS FEATURES QUE LAS PERSONAS ENFERMAS, ICTAL\n",
    "data_CN = np.array(pd.read_csv('D:/Alessandro/LACONEU/InterIctalA.csv', delimiter=',',header=0))\n",
    "data_AD = np.array(pd.read_csv('D:/Alessandro/LACONEU/Ictal2.csv',delimiter=',',header=0))\n",
    "\n",
    "data_CN = np.delete(data_CN, 0, 1)\n",
    "data_AD = np.delete(data_AD, 0, 1)\n",
    "\n",
    "#print(data_CN)\n",
    "#print(data_AD)"
   ]
  },
  {
   "cell_type": "code",
   "execution_count": 40,
   "id": "8f349ab3",
   "metadata": {},
   "outputs": [
    {
     "name": "stdout",
     "output_type": "stream",
     "text": [
      "MATRIZ DE FEATURES\n",
      "[[0.82872823 0.55658427 0.51813273 ... 2.40871208 1.29684207 1.39661611]\n",
      " [0.82019924 0.63590208 0.58239609 ... 2.32371155 1.30156915 1.18732333]\n",
      " [0.78588985 0.59862576 0.55779447 ... 2.26031552 1.24199278 1.2121708 ]\n",
      " ...\n",
      " [0.64959457 0.47716719 0.4458073  ... 2.43123945 1.20734358 1.46841019]\n",
      " [0.73646508 0.35493727 0.39069644 ... 2.2627397  1.17585623 1.64797913]\n",
      " [0.76228874 0.50865544 0.49326597 ... 1.94938296 1.26711314 1.42967687]]\n",
      "VECTOR DE ETIQUETAS\n",
      "[0. 0. 0. 0. 0. 0. 0. 0. 0. 0. 0. 0. 0. 0. 0. 0. 0. 0. 0. 0. 0. 0. 0. 0.\n",
      " 0. 0. 0. 0. 0. 0. 0. 0. 0. 0. 0. 0. 0. 0. 0. 0. 0. 0. 0. 0. 0. 0. 0. 0.\n",
      " 0. 0. 1. 1. 1. 1. 1. 1. 1. 1. 1. 1. 1. 1. 1. 1. 1. 1. 1. 1. 1. 1. 1. 1.\n",
      " 1. 1. 1. 1. 1. 1. 1. 1. 1. 1. 1. 1. 1. 1. 1. 1. 1. 1. 1. 1. 1. 1. 1. 1.\n",
      " 1. 1. 1. 1.]\n"
     ]
    }
   ],
   "source": [
    "# 2. Crear matriz con clases\n",
    "y_CN = np.zeros(data_CN.shape[0])\n",
    "y_AD = np.ones(data_AD.shape[0])\n",
    "\n",
    "y = np.concatenate((y_CN,y_AD))\n",
    "X = np.concatenate((data_CN,data_AD))\n",
    "\n",
    "# X datos matriz de features\n",
    "# y vector de etiquetas\n",
    "\n",
    "print(\"MATRIZ DE FEATURES\")\n",
    "print(X)\n",
    "\n",
    "print(\"VECTOR DE ETIQUETAS\")\n",
    "print(y)"
   ]
  },
  {
   "cell_type": "markdown",
   "id": "b3258592",
   "metadata": {},
   "source": [
    "## Generar Esquema de particion - Cross Validation"
   ]
  },
  {
   "cell_type": "code",
   "execution_count": null,
   "id": "62d3dc70",
   "metadata": {},
   "outputs": [],
   "source": []
  }
 ],
 "metadata": {
  "kernelspec": {
   "display_name": "Python 3 (ipykernel)",
   "language": "python",
   "name": "python3"
  },
  "language_info": {
   "codemirror_mode": {
    "name": "ipython",
    "version": 3
   },
   "file_extension": ".py",
   "mimetype": "text/x-python",
   "name": "python",
   "nbconvert_exporter": "python",
   "pygments_lexer": "ipython3",
   "version": "3.9.13"
  }
 },
 "nbformat": 4,
 "nbformat_minor": 5
}
