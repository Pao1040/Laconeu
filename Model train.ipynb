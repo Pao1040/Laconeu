{
 "cells": [
  {
   "cell_type": "code",
   "execution_count": 1,
   "id": "ac1cebcc",
   "metadata": {},
   "outputs": [],
   "source": [
    "import pandas as pd\n",
    "import numpy as np\n",
    "import sklearn \n",
    "from sklearn.metrics import auc\n",
    "from sklearn.metrics import plot_roc_curve\n",
    "from sklearn.model_selection import StratifiedKFold\n",
    "from sklearn import svm\n",
    "import matplotlib.pyplot as plt\n",
    "from sklearn.ensemble import RandomForestClassifier\n",
    "from sklearn.ensemble import GradientBoostingClassifier\n",
    "from sklearn.metrics import roc_curve\n",
    "from sklearn.metrics import roc_auc_score\n",
    "from random import shuffle\n",
    "from scipy.stats import ranksums\n",
    "from sklearn.feature_selection import SelectKBest, chi2\n",
    "from sklearn.metrics import confusion_matrix\n",
    "from sklearn.metrics import precision_score\n",
    "from sklearn.metrics import recall_score\n",
    "from sklearn.metrics import accuracy_score"
   ]
  },
  {
   "cell_type": "code",
   "execution_count": 2,
   "id": "7beeb3d3",
   "metadata": {},
   "outputs": [],
   "source": [
    "#import cv2 as cv"
   ]
  },
  {
   "cell_type": "code",
   "execution_count": 3,
   "id": "dbaaa4e8",
   "metadata": {},
   "outputs": [],
   "source": [
    "# Definición de variables \n",
    "acc = []\n",
    "acc_sh = []\n",
    "cm = np.zeros((2,2))\n",
    "cm_sh = np.zeros((2,2))\n",
    "features_selected = np.zeros(100)\n",
    "features_selected_sh = np.zeros(100)\n",
    "\n",
    "numfeat = 2 # numero de features para usar con feature selection univariado \n",
    "\n",
    "## NO MODIFICAR\n",
    "# Este codigo existe para seleccionar un threshold que haga a las matrices de confusion lo mas diagonales posibles NA\n",
    "def diag_cm(classifier, X_test_new): \n",
    "    thr = np.arange(0,1,0.1)\n",
    "    opt = 10*len(X_test_new)\n",
    "    for t in thr:\n",
    "        pred = classifier.predict_proba(X_test_new)[:,1]>t\n",
    "        cm_temp = np.double(np.array(confusion_matrix(y,pred)))\n",
    "        opt_temp = np.abs(cm_temp[0,0] - cm_temp[1,1])+cm_temp[0,1]+cm_temp[1,0]\n",
    "        if opt_temp<opt:\n",
    "            cm_out = cm_temp\n",
    "            opt=opt_temp\n",
    "           # print(opt)\n",
    "           # print(cm_out)\n",
    "    return cm_out"
   ]
  },
  {
   "cell_type": "code",
   "execution_count": 4,
   "id": "2c36bc5e",
   "metadata": {},
   "outputs": [],
   "source": [
    "# 1) Cargar matriz de features (modificar los path)\n",
    "\n",
    "\n",
    "data_CN = np.load('ictal.npy')\n",
    "data_EP = np.load('Interictal.npy')\n",
    "#data_CN = np.array(pd.read_csv('ictal.npy',delimiter=' ',header=None))\n",
    "#data_EP = np.array(pd.read_csv('Interictal.npy',delimiter=' ',header=None))"
   ]
  },
  {
   "cell_type": "code",
   "execution_count": 5,
   "id": "b475f828",
   "metadata": {},
   "outputs": [],
   "source": [
    "# 2) Crear la matriz con clases (ceros y unos)\n",
    "\n",
    "#Etiquetado \n",
    "y_CN = np.zeros(data_CN.shape[0])\n",
    "y_EP = np.ones(data_EP.shape[0])\n",
    "\n",
    "#Union de matriz X y Vector Y\n",
    "y = np.concatenate((y_CN,y_EP))\n",
    "X = np.concatenate((data_CN,data_EP))\n",
    "\n",
    "# X datos matriz de features\n",
    "# y vector de etiquetas"
   ]
  },
  {
   "cell_type": "code",
   "execution_count": 14,
   "id": "ee206a9c",
   "metadata": {},
   "outputs": [
    {
     "data": {
      "text/plain": [
       "(100, 12)"
      ]
     },
     "execution_count": 14,
     "metadata": {},
     "output_type": "execute_result"
    }
   ],
   "source": [
    "X.shape"
   ]
  },
  {
   "cell_type": "code",
   "execution_count": 7,
   "id": "6f5d479d",
   "metadata": {},
   "outputs": [],
   "source": [
    "# 3) Generar esquemas de partición\n",
    "folds = 5 # folds de la validacion cruzada\n",
    "iterations = 100 # itereaciones con para estimar el p-value con random shuffling de las etiquetas\n",
    "\n",
    "## ESTO SI\n",
    "# defino el clasificador (es un Gradient Boosting Classifier, similar a Random Forest)\n",
    "classifier = GradientBoostingClassifier(n_estimators=1000,learning_rate= 0.01, max_features= 2)\n",
    "\n",
    "all_tprs = []\n",
    "all_aucs = []\n",
    "\n",
    "mean_fpr = np.linspace(0, 1, 1000) # esto sirve para plotear el ROC "
   ]
  },
  {
   "cell_type": "code",
   "execution_count": null,
   "id": "a9c6d53a",
   "metadata": {},
   "outputs": [],
   "source": []
  },
  {
   "cell_type": "code",
   "execution_count": 8,
   "id": "17eea60f",
   "metadata": {},
   "outputs": [],
   "source": [
    "#selector = SelectKBest(k=numfeat).fit(X, y)\n",
    "#X_new = selector.transform(X)\n",
    "#X_test_new = selector.transform(X)"
   ]
  },
  {
   "cell_type": "code",
   "execution_count": 9,
   "id": "9ec82062",
   "metadata": {},
   "outputs": [],
   "source": [
    "#classifier.fit(X_new, y)"
   ]
  },
  {
   "cell_type": "code",
   "execution_count": 15,
   "id": "b5d3714b",
   "metadata": {},
   "outputs": [],
   "source": [
    "\n",
    "\n",
    "# 4) Para cada partición (entrenar, testear)\n",
    "#for (train, test) in enumerate(cv.split(X, y)):\n",
    "selector = SelectKBest(k=numfeat).fit(X, y) # selecciona con F-score los mejores features\n",
    "X_new = selector.transform(X)\n",
    "X_test_new = selector.transform(X)\n",
    "        \n",
    "        ###\n",
    "      #print(selector.get_support())  \n",
    "      #features_selected[selector.get_support()]=features_selected[selector.get_support()]+1   \n",
    "#features = X.feature_names\n",
    "#features_selected_example = features[selector.get_support()]     \n",
    "classifier.fit(X, y) # clasificador ACA SE ENTRENA\n",
    "acc.append(sklearn.metrics.accuracy_score(y,classifier.predict(X) )) # testting classifier ACA SE TESTEA\n",
    "cm_temp = diag_cm(classifier,X) # MATRIZ DE CONFUSION\n",
    "cm_temp[0,:]= cm_temp[0,:]/np.sum(cm_temp[0,:])\n",
    "cm_temp[1,:]= cm_temp[1,:]/np.sum(cm_temp[1,:])\n",
    "cm = cm + cm_temp\n",
    "        \n",
    "\n",
    "    \n"
   ]
  },
  {
   "cell_type": "code",
   "execution_count": 11,
   "id": "56dff9b4",
   "metadata": {},
   "outputs": [
    {
     "data": {
      "text/plain": [
       "array([[  0.5484786 ,  53.        ],\n",
       "       [  0.44410872,  54.        ],\n",
       "       [  0.46181925,  40.        ],\n",
       "       [  0.37578264,  46.        ],\n",
       "       [  0.45876277,  49.        ],\n",
       "       [  0.36436053,  34.        ],\n",
       "       [  0.37027796,  37.        ],\n",
       "       [  0.40298696,  38.        ],\n",
       "       [  0.39091344,  34.        ],\n",
       "       [  0.45409003,  55.        ],\n",
       "       [  0.41590802,  44.        ],\n",
       "       [  0.59841992,  69.        ],\n",
       "       [  0.17331882, 117.        ],\n",
       "       [  0.53985626,  56.        ],\n",
       "       [  0.52792693,  61.        ],\n",
       "       [  0.48630152,  53.        ],\n",
       "       [  0.43956051,  49.        ],\n",
       "       [  0.43532537,  52.        ],\n",
       "       [  0.48719231,  54.        ],\n",
       "       [  0.48314852,  56.        ],\n",
       "       [  0.4786079 ,  75.        ],\n",
       "       [  0.50667988,  57.        ],\n",
       "       [  0.43986753,  58.        ],\n",
       "       [  0.50553087,  49.        ],\n",
       "       [  0.38617025,  64.        ],\n",
       "       [  0.38288518,  73.        ],\n",
       "       [  0.45162316,  52.        ],\n",
       "       [  0.49232892,  61.        ],\n",
       "       [  0.38264435,  72.        ],\n",
       "       [  0.43532537,  52.        ],\n",
       "       [  0.48719231,  54.        ],\n",
       "       [  0.56553675,  71.        ],\n",
       "       [  0.3726473 ,  71.        ],\n",
       "       [  0.47709261,  52.        ],\n",
       "       [  0.31795301,  63.        ],\n",
       "       [  0.46804315,  49.        ],\n",
       "       [  0.37817524,  41.        ],\n",
       "       [  0.540841  ,  51.        ],\n",
       "       [  0.40593867,  34.        ],\n",
       "       [  0.5658754 ,  55.        ],\n",
       "       [  0.54599181, 101.        ],\n",
       "       [  0.40874989,  39.        ],\n",
       "       [  0.47920542,  40.        ],\n",
       "       [  0.42996043,  41.        ],\n",
       "       [  0.41917081,  29.        ],\n",
       "       [  0.41105877,  48.        ],\n",
       "       [  0.61208887,  40.        ],\n",
       "       [  0.48428431,  46.        ],\n",
       "       [  0.45717078,  27.        ],\n",
       "       [  0.52538968,  58.        ],\n",
       "       [  0.76106143,  83.        ],\n",
       "       [  0.91530917,  88.        ],\n",
       "       [  0.66330522,  89.        ],\n",
       "       [  0.80135961,  86.        ],\n",
       "       [  0.80000011,  94.        ],\n",
       "       [  0.80739462,  91.        ],\n",
       "       [  1.00585866, 103.        ],\n",
       "       [  0.85845369,  90.        ],\n",
       "       [  0.67542189,  78.        ],\n",
       "       [  0.72053261,  84.        ],\n",
       "       [  0.63646509,  82.        ],\n",
       "       [  0.73488216, 102.        ],\n",
       "       [  0.64135781,  84.        ],\n",
       "       [  0.6702187 ,  87.        ],\n",
       "       [  0.70041393,  84.        ],\n",
       "       [  0.67505866,  82.        ],\n",
       "       [  0.81967009,  84.        ],\n",
       "       [  0.7434269 ,  91.        ],\n",
       "       [  0.70612987,  85.        ],\n",
       "       [  0.67908807,  92.        ],\n",
       "       [  0.5870326 ,  68.        ],\n",
       "       [  0.63136077,  81.        ],\n",
       "       [  0.63590496,  89.        ],\n",
       "       [  0.63637858,  93.        ],\n",
       "       [  0.66167578,  80.        ],\n",
       "       [  0.61731029,  75.        ],\n",
       "       [  0.69728227,  98.        ],\n",
       "       [  0.64208943,  82.        ],\n",
       "       [  0.68628085,  85.        ],\n",
       "       [  0.62116617,  78.        ],\n",
       "       [  0.63337724,  78.        ],\n",
       "       [  0.73918021,  83.        ],\n",
       "       [  0.74266873, 100.        ],\n",
       "       [  0.76191608,  72.        ],\n",
       "       [  0.63811519,  74.        ],\n",
       "       [  0.68859718,  97.        ],\n",
       "       [  0.63371862,  85.        ],\n",
       "       [  0.66866305,  77.        ],\n",
       "       [  0.65949807,  88.        ],\n",
       "       [  0.70129019,  91.        ],\n",
       "       [  1.09758245, 139.        ],\n",
       "       [  0.67989995,  73.        ],\n",
       "       [  0.69530021,  75.        ],\n",
       "       [  0.67847328,  94.        ],\n",
       "       [  1.22744769, 133.        ],\n",
       "       [  0.79778108,  94.        ],\n",
       "       [  0.99279658, 109.        ],\n",
       "       [  1.01896576, 113.        ],\n",
       "       [  0.91258938,  93.        ],\n",
       "       [  0.82803359,  90.        ]])"
      ]
     },
     "execution_count": 11,
     "metadata": {},
     "output_type": "execute_result"
    }
   ],
   "source": [
    "X_new"
   ]
  },
  {
   "cell_type": "code",
   "execution_count": 17,
   "id": "7bfe4d47",
   "metadata": {},
   "outputs": [
    {
     "name": "stderr",
     "output_type": "stream",
     "text": [
      "C:\\Users\\moysm\\anaconda3\\lib\\site-packages\\sklearn\\utils\\deprecation.py:87: FutureWarning: Function plot_roc_curve is deprecated; Function :func:`plot_roc_curve` is deprecated in 1.0 and will be removed in 1.2. Use one of the class methods: :meth:`sklearn.metric.RocCurveDisplay.from_predictions` or :meth:`sklearn.metric.RocCurveDisplay.from_estimator`.\n",
      "  warnings.warn(msg, category=FutureWarning)\n"
     ]
    },
    {
     "data": {
      "image/png": "[encoded data removed]",
      "text/plain": [
       "<Figure size 432x288 with 1 Axes>"
      ]
     },
     "metadata": {
      "needs_background": "light"
     },
     "output_type": "display_data"
    },
    {
     "data": {
      "image/png": "[encoded data removed]",
      "text/plain": [
       "<Figure size 432x288 with 1 Axes>"
      ]
     },
     "metadata": {
      "needs_background": "light"
     },
     "output_type": "display_data"
    }
   ],
   "source": [
    "tprs = []\n",
    "aucs = []\n",
    "viz = plot_roc_curve(classifier, X, y,\n",
    "                            name='ROC fold {}'.format(0),\n",
    "                            alpha=0.3, lw=1) # esto es una forma complicada de obtener el AUC\n",
    "interp_tpr = np.interp(mean_fpr, viz.fpr, viz.tpr)\n",
    "interp_tpr[0] = 0.0\n",
    "tprs.append(interp_tpr)\n",
    "aucs.append(viz.roc_auc) # sacando area bajo la curva\n",
    "fig, ax = plt.subplots() \n",
    "  \n",
    "ax.plot([0, 1], [0, 1], linestyle='--', lw=2, color='r',\n",
    "            label='Chance', alpha=.8)\n",
    "    \n",
    "mean_tpr = np.mean(tprs, axis=0)\n",
    "mean_tpr[-1] = 1.0\n",
    "mean_auc = auc(mean_fpr, mean_tpr)\n",
    "    "
   ]
  },
  {
   "cell_type": "code",
   "execution_count": null,
   "id": "9edef95c",
   "metadata": {},
   "outputs": [],
   "source": []
  }
 ],
 "metadata": {
  "kernelspec": {
   "display_name": "Python 3 (ipykernel)",
   "language": "python",
   "name": "python3"
  },
  "language_info": {
   "codemirror_mode": {
    "name": "ipython",
    "version": 3
   },
   "file_extension": ".py",
   "mimetype": "text/x-python",
   "name": "python",
   "nbconvert_exporter": "python",
   "pygments_lexer": "ipython3",
   "version": "3.9.7"
  }
 },
 "nbformat": 4,
 "nbformat_minor": 5
}
